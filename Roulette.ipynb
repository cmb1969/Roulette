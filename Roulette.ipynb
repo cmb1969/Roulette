{
 "cells": [
  {
   "cell_type": "code",
   "execution_count": 1,
   "metadata": {},
   "outputs": [],
   "source": [
    "import random"
   ]
  },
  {
   "cell_type": "code",
   "execution_count": 2,
   "metadata": {},
   "outputs": [],
   "source": [
    "red = [1, 3, 5, 7, 9, 12, 14, 16, 18, 19, 21, 23, 25, 27, 30, 32, 34, 36]\n",
    "black = [2, 4, 6, 8, 10, 11, 13, 15, 17, 20, 22, 24, 26, 28, 29, 31, 33, 35]\n",
    "odd = [1, 3, 5, 7, 9, 11, 13, 15, 17, 19, 21, 23, 25, 27, 29, 31, 33, 35]\n",
    "even = [2, 4, 6, 8, 10, 12, 14, 16, 18, 20, 22, 24, 26, 28, 30, 32, 34, 36]\n",
    "first_dozen = range(1,13)\n",
    "second_dozen = range(13,25)\n",
    "third_dozen = range(25,37)\n",
    "first_column = [1,4,7,10,13,16,19,22,25,28,31,34]\n",
    "second_column = [2,5,8,11,14,17,20,23,26,29,32,35]\n",
    "third_column = [3,6,9,12,15,18,21,24,27,30,33,36]\n",
    "green = [-1, 0]\n",
    "tophalf= [1,2,3,4,5,6,7,8,9,10,11,12,13,14,15,16,17,18]\n",
    "bottomhalf= [19,20,21,22,23,24,25,26,27,28,29,30,31,32,33,34,35,36]"
   ]
  },
  {
   "cell_type": "code",
   "execution_count": 3,
   "metadata": {},
   "outputs": [],
   "source": [
    "#specific bets\n",
    "corner = [25,26,28,29]\n",
    "street = [31,32,33]\n",
    "twosets = [25,28,27,30,31,32,33,34,35,36]"
   ]
  },
  {
   "cell_type": "code",
   "execution_count": 4,
   "metadata": {},
   "outputs": [],
   "source": [
    "def spin_wheel(style):\n",
    "    if style == 'A':\n",
    "        return random.randint(-1,36)\n",
    "    else:\n",
    "        return random.randint(0,36)"
   ]
  },
  {
   "cell_type": "code",
   "execution_count": 5,
   "metadata": {},
   "outputs": [],
   "source": [
    "def check_for_win(point):\n",
    "    if point in tophalf:\n",
    "        win = 60\n",
    "#    elif point in corner:\n",
    "#        win = 45\n",
    "#    elif point in street:\n",
    "#        win = 60\n",
    "    elif point in third_dozen:\n",
    "        win = 60\n",
    "    else:\n",
    "        win = 0\n",
    "            \n",
    "    return win\n",
    "    "
   ]
  },
  {
   "cell_type": "code",
   "execution_count": 32,
   "metadata": {},
   "outputs": [],
   "source": [
    "def simulator():\n",
    "    TRIALS = 100000\n",
    "    TABLE_TYPE = 'A'\n",
    "    \n",
    "    TARGETWIN = 250\n",
    "    TARGETLOSS = 125 \n",
    "    INIT_BANKROLL = 200\n",
    "    STD_BET = 50\n",
    "    losses = 0\n",
    "    wins = 0\n",
    "    total_losses = 0\n",
    "    total_wins = 0\n",
    "    allspins= [0]*TRIALS\n",
    "    \n",
    "    for rolls in range(TRIALS):\n",
    "        bankroll = INIT_BANKROLL\n",
    "        spins = 0\n",
    "\n",
    "        while bankroll > TARGETLOSS-1 and bankroll < TARGETWIN:\n",
    "            bankroll -= STD_BET\n",
    "            spins+=1\n",
    "            point = spin_wheel(TABLE_TYPE)\n",
    "            #print(point)\n",
    "\n",
    "        \n",
    "            bankroll += check_for_win(point)\n",
    "            #print ('$',bankroll)\n",
    "      \n",
    "        if bankroll <= TARGETLOSS:\n",
    "            losses +=1\n",
    "            total_losses += INIT_BANKROLL-bankroll\n",
    "            #print(\"number of spins:\",spins)\n",
    "            allspins[rolls]=spins\n",
    "\n",
    "            \n",
    "        if bankroll >= TARGETWIN:\n",
    "            wins += 1\n",
    "            total_wins += bankroll - INIT_BANKROLL\n",
    "            #print(\"number of spins:\",spins)\n",
    "            allspins[rolls]=spins\n",
    "        \n",
    "    print('*** Losses ***')\n",
    "    print('Losses',losses)\n",
    "    print('Total Losses : $',total_losses)\n",
    "    print('Avg Loss',total_losses/losses)\n",
    "    print('*** Wins ***')\n",
    "    print('Wins',wins)\n",
    "    print('Total Wins : $',total_wins)  \n",
    "    print(\"*** WIN percentage\",wins/TRIALS)\n",
    "    print(\"average number of rolls:\", sum(allspins)/len(allspins))"
   ]
  },
  {
   "cell_type": "code",
   "execution_count": 33,
   "metadata": {},
   "outputs": [
    {
     "name": "stdout",
     "output_type": "stream",
     "text": [
      "*** Losses ***\n",
      "Losses 51533\n",
      "Total Losses : $ 4813300\n",
      "Avg Loss 93.40228591388042\n",
      "*** Wins ***\n",
      "Wins 48467\n",
      "Total Wins : $ 2423350\n",
      "*** WIN percentage 0.48467\n",
      "average number of rolls: 9.15117\n"
     ]
    }
   ],
   "source": [
    "simulator()"
   ]
  },
  {
   "cell_type": "code",
   "execution_count": null,
   "metadata": {},
   "outputs": [],
   "source": []
  },
  {
   "cell_type": "code",
   "execution_count": null,
   "metadata": {},
   "outputs": [],
   "source": []
  },
  {
   "cell_type": "code",
   "execution_count": null,
   "metadata": {},
   "outputs": [],
   "source": []
  }
 ],
 "metadata": {
  "kernelspec": {
   "display_name": "Python 3",
   "language": "python",
   "name": "python3"
  },
  "language_info": {
   "codemirror_mode": {
    "name": "ipython",
    "version": 3
   },
   "file_extension": ".py",
   "mimetype": "text/x-python",
   "name": "python",
   "nbconvert_exporter": "python",
   "pygments_lexer": "ipython3",
   "version": "3.7.0"
  }
 },
 "nbformat": 4,
 "nbformat_minor": 2
}
